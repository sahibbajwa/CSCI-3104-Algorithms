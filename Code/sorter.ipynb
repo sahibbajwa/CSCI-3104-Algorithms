{
 "cells": [
  {
   "cell_type": "code",
   "execution_count": 48,
   "metadata": {},
   "outputs": [
    {
     "name": "stdout",
     "output_type": "stream",
     "text": [
      "[4, 9, 5, 10, 3, 5, 10, 2, 7, 6, 2, 10, 3, 0, 4, 10, 6, 9, 2, 0, 0, 10, 1, 8, 8, 10, 1, 9, 1, 4, 1, 10, 8, 7, 0, 10, 6, 10, 0, 2, 8, 10, 1, 1, 7, 5, 9, 0, 10, 1, 10, 1, 3, 3, 2, 3, 9, 0, 4, 4, 1, 6, 2, 8, 8, 7, 6, 3, 4, 4, 8, 6, 9, 1, 5, 5, 8, 7, 10, 9, 0, 5, 7, 7, 3, 6, 10, 9, 6, 10, 1, 7, 2, 9, 5, 9, 6, 9, 2, 5]\n",
      "[0, 0, 0, 0, 0, 0, 0, 0, 1, 1, 1, 1, 1, 1, 1, 1, 1, 1, 1, 2, 2, 2, 2, 2, 2, 2, 2, 3, 3, 3, 3, 3, 3, 3, 4, 4, 4, 4, 4, 4, 4, 5, 5, 5, 5, 5, 5, 5, 5, 6, 6, 6, 6, 6, 6, 6, 6, 6, 7, 7, 7, 7, 7, 7, 7, 7, 8, 8, 8, 8, 8, 8, 8, 8, 9, 9, 9, 9, 9, 9, 9, 9, 9, 9, 9, 10, 10, 10, 10, 10, 10, 10, 10, 10, 10, 10, 10, 10, 10, 10]\n"
     ]
    }
   ],
   "source": [
    "def split_list(a_list):\n",
    "    \n",
    "    half = len(a_list)//2\n",
    "    return a_list[:half], a_list[half:]\n",
    "\n",
    "def sorter(A):\n",
    "    \n",
    "    if(len(A) > 1) :\n",
    "        \n",
    "        B, C = split_list(A)\n",
    "        sorter(B)\n",
    "        sorter(C)\n",
    "        i=j=k = 0\n",
    "        \n",
    "        while(i < len(B) and j < len(C)):\n",
    "            \n",
    "            if(B[i] < C[j]):\n",
    "                A[k] = B[i]\n",
    "                i = i + 1\n",
    "                \n",
    "            else:\n",
    "                A[k] = C[j]\n",
    "                j = j + 1\n",
    "            k = k + 1\n",
    "            \n",
    "        while i < len(B): \n",
    "            \n",
    "            A[k] = B[i] \n",
    "            i = i + 1\n",
    "            k = k + 1\n",
    "            \n",
    "        while j < len(C): \n",
    "            \n",
    "            A[k] = C[j] \n",
    "            j = j + 1\n",
    "            k = k + 1\n",
    "            \n",
    "def main():\n",
    "    A = [random.randint(0,10) for _ in range(100)]\n",
    "    print(A)\n",
    "    sorter(A)\n",
    "    print(A)\n",
    "    \n",
    "if __name__ == \"__main__\":\n",
    "    main()"
   ]
  },
  {
   "cell_type": "code",
   "execution_count": null,
   "metadata": {},
   "outputs": [],
   "source": []
  },
  {
   "cell_type": "code",
   "execution_count": null,
   "metadata": {},
   "outputs": [],
   "source": []
  },
  {
   "cell_type": "code",
   "execution_count": null,
   "metadata": {},
   "outputs": [],
   "source": []
  }
 ],
 "metadata": {
  "kernelspec": {
   "display_name": "Python 3",
   "language": "python",
   "name": "python3"
  },
  "language_info": {
   "codemirror_mode": {
    "name": "ipython",
    "version": 3
   },
   "file_extension": ".py",
   "mimetype": "text/x-python",
   "name": "python",
   "nbconvert_exporter": "python",
   "pygments_lexer": "ipython3",
   "version": "3.7.3"
  }
 },
 "nbformat": 4,
 "nbformat_minor": 4
}
